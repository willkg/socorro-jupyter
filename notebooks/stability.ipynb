{
 "cells": [
  {
   "cell_type": "markdown",
   "metadata": {
    "id": "msC256KoIQxH"
   },
   "source": [
    "# Authentication\n",
    "When running this notebook in Colab and starting a new session, run this block to authenticate so the notebook can access Bigquery."
   ]
  },
  {
   "cell_type": "code",
   "execution_count": null,
   "metadata": {
    "colab": {
     "base_uri": "https://localhost:8080/"
    },
    "executionInfo": {
     "elapsed": 308,
     "status": "ok",
     "timestamp": 1626740983635,
     "user": {
      "displayName": "Eric Smyth",
      "photoUrl": "https://lh3.googleusercontent.com/a-/AOh14GhDTBoORDxrOm4QentoYfCMmr01DTtXLdSaiBPO=s64",
      "userId": "00945253212947176417"
     },
     "user_tz": 420
    },
    "id": "mhrCpyWfhUUy",
    "outputId": "a82f376a-14f9-4e62-d519-aa49ffb13d92"
   },
   "outputs": [],
   "source": [
    "from google.colab import auth\n",
    "auth.authenticate_user()\n",
    "print('Authenticated')"
   ]
  },
  {
   "cell_type": "markdown",
   "metadata": {
    "id": "m0Jiew_AIQxL"
   },
   "source": [
    "# Start Here"
   ]
  },
  {
   "cell_type": "code",
   "execution_count": 2,
   "metadata": {
    "executionInfo": {
     "elapsed": 15,
     "status": "ok",
     "timestamp": 1626740983955,
     "user": {
      "displayName": "Eric Smyth",
      "photoUrl": "https://lh3.googleusercontent.com/a-/AOh14GhDTBoORDxrOm4QentoYfCMmr01DTtXLdSaiBPO=s64",
      "userId": "00945253212947176417"
     },
     "user_tz": 420
    },
    "id": "BIbzXlpDhUUu"
   },
   "outputs": [],
   "source": [
    "#@title Firefox Stability Overview\n",
    "\n",
    "#@markdown This notebook is a playground for prototyping visualizations of and analysis for Firefox stability data.\n",
    "\n",
    "target_major_version = 88 #@param {type:\"integer\"}\n"
   ]
  },
  {
   "cell_type": "markdown",
   "metadata": {
    "id": "Eo4K22qEhUUw"
   },
   "source": [
    "# Init"
   ]
  },
  {
   "cell_type": "code",
   "execution_count": null,
   "metadata": {},
   "outputs": [],
   "source": [
    "!pip install fx_crash_sig"
   ]
  },
  {
   "cell_type": "code",
   "execution_count": 294,
   "metadata": {
    "colab": {
     "base_uri": "https://localhost:8080/"
    },
    "executionInfo": {
     "elapsed": 15,
     "status": "ok",
     "timestamp": 1626740983956,
     "user": {
      "displayName": "Eric Smyth",
      "photoUrl": "https://lh3.googleusercontent.com/a-/AOh14GhDTBoORDxrOm4QentoYfCMmr01DTtXLdSaiBPO=s64",
      "userId": "00945253212947176417"
     },
     "user_tz": 420
    },
    "id": "pQt58DwWhUUy",
    "outputId": "b0a0af2a-d11f-454d-b4f6-c23c9daedba1"
   },
   "outputs": [],
   "source": [
    "project = 'mozdata'\n",
    "\n",
    "from google.cloud import bigquery\n",
    "\n",
    "import pandas as pd\n",
    "import seaborn as sns\n",
    "import numpy as np\n",
    "import matplotlib.pyplot as plt\n",
    "import seaborn as sns\n",
    "\n",
    "import json\n",
    "import sys\n",
    "import os\n",
    "\n",
    "from scipy import stats\n",
    "from time import time\n",
    "from collections import namedtuple\n",
    "from fx_crash_sig.crash_processor import CrashProcessor\n",
    "\n",
    "start_time = time()\n",
    "crash_processor = CrashProcessor()\n",
    "bq_client = bigquery.Client(project=project)\n",
    "plt.rcParams['figure.figsize'] = (11,7)\n",
    "pd.set_option('display.max_colwidth', None)"
   ]
  },
  {
   "cell_type": "markdown",
   "metadata": {
    "id": "ByUGYK2BhUU2"
   },
   "source": [
    "# Analysis"
   ]
  },
  {
   "cell_type": "markdown",
   "metadata": {
    "id": "PD0E3RT7hUU2"
   },
   "source": [
    "## Query Telemetry"
   ]
  },
  {
   "cell_type": "code",
   "execution_count": 5,
   "metadata": {
    "executionInfo": {
     "elapsed": 12,
     "status": "ok",
     "timestamp": 1626740983960,
     "user": {
      "displayName": "Eric Smyth",
      "photoUrl": "https://lh3.googleusercontent.com/a-/AOh14GhDTBoORDxrOm4QentoYfCMmr01DTtXLdSaiBPO=s64",
      "userId": "00945253212947176417"
     },
     "user_tz": 420
    },
    "id": "8XOi7oC8IQxV"
   },
   "outputs": [],
   "source": [
    "# The number of weeks to query post-release. Reasonable range is 1 to 4.\n",
    "# Crash Stats provides 1 week rolling window\n",
    "weeks = 1\n",
    "\n",
    "declares = f'''\n",
    "DECLARE target_major_version DEFAULT {target_major_version};\n",
    "DECLARE compare_major_version DEFAULT target_major_version - 1;\n",
    "DECLARE weeks DEFAULT {weeks};\n",
    "DECLARE target_min_date DEFAULT (\n",
    "  SELECT\n",
    "    date\n",
    "  FROM `mozdata.telemetry.releases`\n",
    "  WHERE mozfun.norm.truncate_version(version, 'major') = target_major_version\n",
    "    AND category = 'major'\n",
    "    AND product = 'firefox'\n",
    ");\n",
    "\n",
    "DECLARE compare_min_date DEFAULT (\n",
    "  SELECT\n",
    "    date\n",
    "  FROM `mozdata.telemetry.releases`\n",
    "  WHERE mozfun.norm.truncate_version(version, 'major') = compare_major_version\n",
    "    AND category = 'major'\n",
    "    AND product = 'firefox'\n",
    ");\n",
    "\n",
    "-- Query through no later than yesterday\n",
    "DECLARE target_max_date DEFAULT IF(\n",
    "    DATE_SUB(current_date, INTERVAL 1 DAY) > DATE_ADD(target_min_date, INTERVAL weeks WEEK),\n",
    "    DATE_ADD(target_min_date, INTERVAL weeks WEEK),\n",
    "    -- Pick the most recent day that is a multiple of 7 days from the `target_min_date`\n",
    "    DATE_ADD(target_min_date, INTERVAL CAST(FLOOR(DATE_DIFF(DATE_SUB(current_date, INTERVAL 1 DAY), DATE '2021-06-01', DAY) / 7) AS INT64) WEEK)\n",
    ");\n",
    "DECLARE query_days DEFAULT DATE_DIFF(target_max_date, target_min_date, DAY);\n",
    "DECLARE compare_max_date DEFAULT DATE_ADD(compare_min_date, INTERVAL query_days DAY);\n",
    "'''"
   ]
  },
  {
   "cell_type": "code",
   "execution_count": 6,
   "metadata": {
    "executionInfo": {
     "elapsed": 2903,
     "status": "ok",
     "timestamp": 1626740986852,
     "user": {
      "displayName": "Eric Smyth",
      "photoUrl": "https://lh3.googleusercontent.com/a-/AOh14GhDTBoORDxrOm4QentoYfCMmr01DTtXLdSaiBPO=s64",
      "userId": "00945253212947176417"
     },
     "user_tz": 420
    },
    "id": "S_CzV5IyIQxW"
   },
   "outputs": [
    {
     "data": {
      "text/html": [
       "<div>\n",
       "<style scoped>\n",
       "    .dataframe tbody tr th:only-of-type {\n",
       "        vertical-align: middle;\n",
       "    }\n",
       "\n",
       "    .dataframe tbody tr th {\n",
       "        vertical-align: top;\n",
       "    }\n",
       "\n",
       "    .dataframe thead th {\n",
       "        text-align: right;\n",
       "    }\n",
       "</style>\n",
       "<table border=\"1\" class=\"dataframe\">\n",
       "  <thead>\n",
       "    <tr style=\"text-align: right;\">\n",
       "      <th></th>\n",
       "      <th>target_major_version</th>\n",
       "      <th>target_min_date</th>\n",
       "      <th>target_max_date</th>\n",
       "      <th>compare_major_version</th>\n",
       "      <th>compare_min_date</th>\n",
       "      <th>compare_max_date</th>\n",
       "      <th>query_days</th>\n",
       "    </tr>\n",
       "  </thead>\n",
       "  <tbody>\n",
       "    <tr>\n",
       "      <th>0</th>\n",
       "      <td>88</td>\n",
       "      <td>2021-04-19</td>\n",
       "      <td>2021-04-26</td>\n",
       "      <td>87</td>\n",
       "      <td>2021-03-23</td>\n",
       "      <td>2021-03-30</td>\n",
       "      <td>7</td>\n",
       "    </tr>\n",
       "  </tbody>\n",
       "</table>\n",
       "</div>"
      ],
      "text/plain": [
       "   target_major_version target_min_date target_max_date  \\\n",
       "0                    88      2021-04-19      2021-04-26   \n",
       "\n",
       "   compare_major_version compare_min_date compare_max_date  query_days  \n",
       "0                     87       2021-03-23       2021-03-30           7  "
      ]
     },
     "execution_count": 6,
     "metadata": {},
     "output_type": "execute_result"
    }
   ],
   "source": [
    "meta_df = bq_client.query(f'''\n",
    "{declares}\n",
    "\n",
    "SELECT\n",
    "  target_major_version,\n",
    "  target_min_date,\n",
    "  target_max_date,\n",
    "  compare_major_version,\n",
    "  compare_min_date,\n",
    "  compare_max_date,\n",
    "  query_days,\n",
    "''').to_dataframe()\n",
    "meta_df"
   ]
  },
  {
   "cell_type": "code",
   "execution_count": 7,
   "metadata": {
    "executionInfo": {
     "elapsed": 53917,
     "status": "ok",
     "timestamp": 1626741040765,
     "user": {
      "displayName": "Eric Smyth",
      "photoUrl": "https://lh3.googleusercontent.com/a-/AOh14GhDTBoORDxrOm4QentoYfCMmr01DTtXLdSaiBPO=s64",
      "userId": "00945253212947176417"
     },
     "user_tz": 420
    },
    "id": "XzfPIHIHhUU2"
   },
   "outputs": [
    {
     "data": {
      "text/plain": [
       "(96863, 10)"
      ]
     },
     "execution_count": 7,
     "metadata": {},
     "output_type": "execute_result"
    }
   ],
   "source": [
    "crash_telemetry_df = bq_client.query(f'''\n",
    "{declares}\n",
    "\n",
    "SELECT\n",
    "  PARSE_DATE(\"%F\", payload.crash_date) AS crash_date,\n",
    "  client_id,\n",
    "  normalized_channel AS channel,\n",
    "  normalized_app_name,\n",
    "  normalized_os,\n",
    "  normalized_os_version,\n",
    "  application.build_id,\n",
    "  application.display_version AS version,\n",
    "  payload,\n",
    "FROM `moz-fx-data-shared-prod.telemetry.crash`\n",
    "WHERE normalized_channel = 'release'\n",
    "  AND normalized_app_name = 'Firefox'\n",
    "  AND sample_id = 0\n",
    "  AND ((\n",
    "    DATE(submission_timestamp) BETWEEN target_min_date AND target_max_date\n",
    "    AND mozfun.norm.truncate_version(application.display_version, 'major') = target_major_version\n",
    "  ) OR (\n",
    "    DATE(submission_timestamp) BETWEEN compare_min_date AND compare_max_date\n",
    "    AND mozfun.norm.truncate_version(application.display_version, 'major') = compare_major_version\n",
    "  ))\n",
    "''').to_dataframe()\n",
    "crash_telemetry_df.shape"
   ]
  },
  {
   "cell_type": "code",
   "execution_count": 9,
   "metadata": {},
   "outputs": [
    {
     "data": {
      "text/plain": [
       "(240033, 11)"
      ]
     },
     "execution_count": 9,
     "metadata": {},
     "output_type": "execute_result"
    }
   ],
   "source": [
    "socorro_df = bq_client.query(f'''\n",
    "{declares}\n",
    "\n",
    "WITH base AS (\n",
    "  SELECT\n",
    "    crash_date\n",
    "    crash_id,\n",
    "    release_channel AS channel,\n",
    "    mozfun.norm.product_info(product, mozfun.norm.os(json_dump.system_info.os)).product AS normalized_app_name,\n",
    "    mozfun.norm.os(json_dump.system_info.os) AS normalized_os,\n",
    "    mozfun.norm.truncate_version(json_dump.system_info.os_ver, 'minor') AS normalized_os_version,\n",
    "    build_id,\n",
    "    version,\n",
    "    process_type,\n",
    "    version,\n",
    "    minidump_sha256_hash,\n",
    "    signature,\n",
    "  FROM mozdata.telemetry.socorro_crash_v2 \n",
    "  WHERE release_channel = 'release'\n",
    "  AND ((\n",
    "    crash_date BETWEEN target_min_date AND target_max_date\n",
    "    AND mozfun.norm.truncate_version(version, 'major') = target_major_version\n",
    "  ) OR (\n",
    "    crash_date BETWEEN compare_min_date AND compare_max_date\n",
    "    AND mozfun.norm.truncate_version(version, 'major') = compare_major_version\n",
    "  ))\n",
    ")\n",
    "\n",
    "SELECT\n",
    "  *\n",
    "FROM base\n",
    "WHERE normalized_app_name = 'Firefox'\n",
    "''').to_dataframe()\n",
    "socorro_df.shape"
   ]
  },
  {
   "cell_type": "code",
   "execution_count": 144,
   "metadata": {},
   "outputs": [],
   "source": [
    "should_be_ints = [\n",
    "  'payload.version',\n",
    "  'payload.stack_traces.main_module',\n",
    "  'payload.stack_traces.threads.module_index',\n",
    "  'payload.stack_traces.threads.frames.module_index'\n",
    "]\n",
    "\n",
    "\n",
    "def noop(*args, **kws):\n",
    "    return None\n",
    "\n",
    "\n",
    "def deeptryset(d, key='', set_fn=noop):\n",
    "  keys = key.split('.')\n",
    "  next_key = keys[0]\n",
    "  if isinstance(d, dict) and next_key in d:\n",
    "    next_obj = d[next_key]\n",
    "    if len(keys) > 1:\n",
    "      remaining_keys = '.'.join(keys[1:])\n",
    "      # Should be ok to use list specifically rather than interable since we're working with a dict loaded from JSON\n",
    "      if isinstance(next_obj, list):\n",
    "        for o in next_obj:\n",
    "          deeptryset(o, remaining_keys, set_fn)\n",
    "      else:\n",
    "        deeptryset(next_obj, remaining_keys, set_fn)\n",
    "    elif next_obj is not None:\n",
    "      d[next_key] = set_fn(next_obj)\n",
    "\n",
    "\n",
    "def get_signature(row):\n",
    "  # Hacky workaround since fx-crash-sig doesn't seem to like some of the types Pandas produces with `to_dict`\n",
    "  r_d = json.loads(row.to_json())\n",
    "  for field in should_be_ints:\n",
    "    deeptryset(r_d, field, int)\n",
    "  deeptryset(r_d, 'payload.stack_traces.crash_info.crashing_thread', lambda x: -1 if x is None else int(x))\n",
    "  old_stdout = sys.stdout\n",
    "  sys.stdout = open(os.devnull, \"w\")\n",
    "  try:\n",
    "    result = crash_processor.get_signature(r_d).signature\n",
    "  except Exception as ex:\n",
    "    print(ex)\n",
    "    result = '__get_signature_failed__'\n",
    "  sys.stdout = old_stdout\n",
    "  return result\n",
    "\n",
    "crash_telemetry_df['signature'] = crash_telemetry_df[['normalized_os', 'payload']].apply(get_signature, axis=1)"
   ]
  },
  {
   "cell_type": "code",
   "execution_count": 304,
   "metadata": {},
   "outputs": [
    {
     "data": {
      "text/html": [
       "<div>\n",
       "<style scoped>\n",
       "    .dataframe tbody tr th:only-of-type {\n",
       "        vertical-align: middle;\n",
       "    }\n",
       "\n",
       "    .dataframe tbody tr th {\n",
       "        vertical-align: top;\n",
       "    }\n",
       "\n",
       "    .dataframe thead th {\n",
       "        text-align: right;\n",
       "    }\n",
       "</style>\n",
       "<table border=\"1\" class=\"dataframe\">\n",
       "  <thead>\n",
       "    <tr style=\"text-align: right;\">\n",
       "      <th></th>\n",
       "      <th>version</th>\n",
       "      <th>signature</th>\n",
       "      <th>crashes</th>\n",
       "      <th>clients</th>\n",
       "      <th>crashes_fraction</th>\n",
       "      <th>client_fraction</th>\n",
       "      <th>source</th>\n",
       "    </tr>\n",
       "  </thead>\n",
       "  <tbody>\n",
       "    <tr>\n",
       "      <th>0</th>\n",
       "      <td>88.0</td>\n",
       "      <td>OOM | small</td>\n",
       "      <td>1301700</td>\n",
       "      <td>571900</td>\n",
       "      <td>0.134386</td>\n",
       "      <td>0.158645</td>\n",
       "      <td>crash_ping</td>\n",
       "    </tr>\n",
       "    <tr>\n",
       "      <th>1</th>\n",
       "      <td>87.0</td>\n",
       "      <td>OOM | small</td>\n",
       "      <td>1293400</td>\n",
       "      <td>562400</td>\n",
       "      <td>0.133529</td>\n",
       "      <td>0.156010</td>\n",
       "      <td>crash_ping</td>\n",
       "    </tr>\n",
       "    <tr>\n",
       "      <th>2</th>\n",
       "      <td>87.0</td>\n",
       "      <td>EMPTY: no crashing thread identified</td>\n",
       "      <td>412000</td>\n",
       "      <td>268000</td>\n",
       "      <td>0.042534</td>\n",
       "      <td>0.074343</td>\n",
       "      <td>crash_ping</td>\n",
       "    </tr>\n",
       "    <tr>\n",
       "      <th>3</th>\n",
       "      <td>88.0</td>\n",
       "      <td>EMPTY: no crashing thread identified</td>\n",
       "      <td>375200</td>\n",
       "      <td>258400</td>\n",
       "      <td>0.038735</td>\n",
       "      <td>0.071680</td>\n",
       "      <td>crash_ping</td>\n",
       "    </tr>\n",
       "    <tr>\n",
       "      <th>4</th>\n",
       "      <td>87.0</td>\n",
       "      <td>shutdownhang | mozilla::(anonymous namespace)::RunWatchdog</td>\n",
       "      <td>307500</td>\n",
       "      <td>182500</td>\n",
       "      <td>0.031746</td>\n",
       "      <td>0.050626</td>\n",
       "      <td>crash_ping</td>\n",
       "    </tr>\n",
       "    <tr>\n",
       "      <th>5</th>\n",
       "      <td>88.0</td>\n",
       "      <td>shutdownhang | mozilla::(anonymous namespace)::RunWatchdog</td>\n",
       "      <td>300100</td>\n",
       "      <td>183400</td>\n",
       "      <td>0.030982</td>\n",
       "      <td>0.050875</td>\n",
       "      <td>crash_ping</td>\n",
       "    </tr>\n",
       "    <tr>\n",
       "      <th>6</th>\n",
       "      <td>87.0</td>\n",
       "      <td>nsWidgetWindowsModuleCtor</td>\n",
       "      <td>261600</td>\n",
       "      <td>1100</td>\n",
       "      <td>0.027007</td>\n",
       "      <td>0.000305</td>\n",
       "      <td>crash_ping</td>\n",
       "    </tr>\n",
       "    <tr>\n",
       "      <th>7</th>\n",
       "      <td>87.0</td>\n",
       "      <td>OOM | large | js::AutoEnterOOMUnsafeRegion::crash | js::AutoEnterOOMUnsafeRegion::crash | js::gc::AllocateCellInGC</td>\n",
       "      <td>157500</td>\n",
       "      <td>107100</td>\n",
       "      <td>0.016260</td>\n",
       "      <td>0.029710</td>\n",
       "      <td>crash_ping</td>\n",
       "    </tr>\n",
       "    <tr>\n",
       "      <th>8</th>\n",
       "      <td>88.0</td>\n",
       "      <td>OOM | large | js::AutoEnterOOMUnsafeRegion::crash | js::AutoEnterOOMUnsafeRegion::crash | js::gc::AllocateCellInGC</td>\n",
       "      <td>119900</td>\n",
       "      <td>84400</td>\n",
       "      <td>0.012378</td>\n",
       "      <td>0.023413</td>\n",
       "      <td>crash_ping</td>\n",
       "    </tr>\n",
       "    <tr>\n",
       "      <th>9</th>\n",
       "      <td>87.0</td>\n",
       "      <td>EMPTY: no frame data available</td>\n",
       "      <td>102800</td>\n",
       "      <td>78200</td>\n",
       "      <td>0.010613</td>\n",
       "      <td>0.021693</td>\n",
       "      <td>crash_ping</td>\n",
       "    </tr>\n",
       "  </tbody>\n",
       "</table>\n",
       "</div>"
      ],
      "text/plain": [
       "  version  \\\n",
       "0    88.0   \n",
       "1    87.0   \n",
       "2    87.0   \n",
       "3    88.0   \n",
       "4    87.0   \n",
       "5    88.0   \n",
       "6    87.0   \n",
       "7    87.0   \n",
       "8    88.0   \n",
       "9    87.0   \n",
       "\n",
       "                                                                                                            signature  \\\n",
       "0                                                                                                         OOM | small   \n",
       "1                                                                                                         OOM | small   \n",
       "2                                                                                EMPTY: no crashing thread identified   \n",
       "3                                                                                EMPTY: no crashing thread identified   \n",
       "4                                                          shutdownhang | mozilla::(anonymous namespace)::RunWatchdog   \n",
       "5                                                          shutdownhang | mozilla::(anonymous namespace)::RunWatchdog   \n",
       "6                                                                                           nsWidgetWindowsModuleCtor   \n",
       "7  OOM | large | js::AutoEnterOOMUnsafeRegion::crash | js::AutoEnterOOMUnsafeRegion::crash | js::gc::AllocateCellInGC   \n",
       "8  OOM | large | js::AutoEnterOOMUnsafeRegion::crash | js::AutoEnterOOMUnsafeRegion::crash | js::gc::AllocateCellInGC   \n",
       "9                                                                                      EMPTY: no frame data available   \n",
       "\n",
       "   crashes  clients  crashes_fraction  client_fraction      source  \n",
       "0  1301700   571900          0.134386         0.158645  crash_ping  \n",
       "1  1293400   562400          0.133529         0.156010  crash_ping  \n",
       "2   412000   268000          0.042534         0.074343  crash_ping  \n",
       "3   375200   258400          0.038735         0.071680  crash_ping  \n",
       "4   307500   182500          0.031746         0.050626  crash_ping  \n",
       "5   300100   183400          0.030982         0.050875  crash_ping  \n",
       "6   261600     1100          0.027007         0.000305  crash_ping  \n",
       "7   157500   107100          0.016260         0.029710  crash_ping  \n",
       "8   119900    84400          0.012378         0.023413  crash_ping  \n",
       "9   102800    78200          0.010613         0.021693  crash_ping  "
      ]
     },
     "execution_count": 304,
     "metadata": {},
     "output_type": "execute_result"
    }
   ],
   "source": [
    "tmp_grp = crash_telemetry_df[['signature', 'version', 'client_id']].groupby(['version', 'signature'])\n",
    "crash_telemetry_summary_df = pd.concat([\n",
    "  tmp_grp['client_id'].count() * 100, # Multiply by 100 to approximate count given 1% sample\n",
    "  tmp_grp['client_id'].nunique() * 100,\n",
    "  tmp_grp['client_id'].count()  / crash_telemetry_df.shape[0],\n",
    "  tmp_grp['client_id'].nunique() / crash_telemetry_df['client_id'].nunique(),\n",
    "  tmp_grp['client_id'].apply(lambda x: 'crash_ping')\n",
    "], join='inner', axis=1)\n",
    "crash_telemetry_summary_df.columns = ['crashes', 'clients', 'crashes_fraction', 'client_fraction', 'source']\n",
    "crash_telemetry_summary_df.sort_values(by='crashes_fraction', ascending=False, inplace=True)\n",
    "crash_telemetry_summary_df.reset_index(inplace=True)\n",
    "crash_telemetry_summary_df.head(10)"
   ]
  },
  {
   "cell_type": "code",
   "execution_count": 303,
   "metadata": {},
   "outputs": [
    {
     "data": {
      "text/html": [
       "<div>\n",
       "<style scoped>\n",
       "    .dataframe tbody tr th:only-of-type {\n",
       "        vertical-align: middle;\n",
       "    }\n",
       "\n",
       "    .dataframe tbody tr th {\n",
       "        vertical-align: top;\n",
       "    }\n",
       "\n",
       "    .dataframe thead th {\n",
       "        text-align: right;\n",
       "    }\n",
       "</style>\n",
       "<table border=\"1\" class=\"dataframe\">\n",
       "  <thead>\n",
       "    <tr style=\"text-align: right;\">\n",
       "      <th></th>\n",
       "      <th>version</th>\n",
       "      <th>signature</th>\n",
       "      <th>crashes</th>\n",
       "      <th>crashes_fraction</th>\n",
       "      <th>source</th>\n",
       "    </tr>\n",
       "  </thead>\n",
       "  <tbody>\n",
       "    <tr>\n",
       "      <th>0</th>\n",
       "      <td>87.0</td>\n",
       "      <td>OOM | small</td>\n",
       "      <td>31973</td>\n",
       "      <td>0.133203</td>\n",
       "      <td>crash_report</td>\n",
       "    </tr>\n",
       "    <tr>\n",
       "      <th>1</th>\n",
       "      <td>88.0</td>\n",
       "      <td>OOM | small</td>\n",
       "      <td>29312</td>\n",
       "      <td>0.122117</td>\n",
       "      <td>crash_report</td>\n",
       "    </tr>\n",
       "    <tr>\n",
       "      <th>2</th>\n",
       "      <td>87.0</td>\n",
       "      <td>OOM | large | js::AutoEnterOOMUnsafeRegion::crash | js::AutoEnterOOMUnsafeRegion::crash | js::gc::AllocateCellInGC</td>\n",
       "      <td>6826</td>\n",
       "      <td>0.028438</td>\n",
       "      <td>crash_report</td>\n",
       "    </tr>\n",
       "    <tr>\n",
       "      <th>3</th>\n",
       "      <td>88.0</td>\n",
       "      <td>OOM | large | js::AutoEnterOOMUnsafeRegion::crash | js::AutoEnterOOMUnsafeRegion::crash | js::gc::AllocateCellInGC</td>\n",
       "      <td>4377</td>\n",
       "      <td>0.018235</td>\n",
       "      <td>crash_report</td>\n",
       "    </tr>\n",
       "    <tr>\n",
       "      <th>4</th>\n",
       "      <td>87.0</td>\n",
       "      <td>js::GCMarker::processMarkStackTop</td>\n",
       "      <td>3416</td>\n",
       "      <td>0.014231</td>\n",
       "      <td>crash_report</td>\n",
       "    </tr>\n",
       "    <tr>\n",
       "      <th>5</th>\n",
       "      <td>88.0</td>\n",
       "      <td>static mozilla::dom::quota::QuotaManager::Shutdown::&lt;T&gt;::operator()::&lt;T&gt;::__invoke</td>\n",
       "      <td>2810</td>\n",
       "      <td>0.011707</td>\n",
       "      <td>crash_report</td>\n",
       "    </tr>\n",
       "    <tr>\n",
       "      <th>6</th>\n",
       "      <td>87.0</td>\n",
       "      <td>shutdownhang | mozilla::SpinEventLoopUntil&lt;T&gt; | mozilla::Preferences::SavePrefFileBlocking</td>\n",
       "      <td>2503</td>\n",
       "      <td>0.010428</td>\n",
       "      <td>crash_report</td>\n",
       "    </tr>\n",
       "    <tr>\n",
       "      <th>7</th>\n",
       "      <td>88.0</td>\n",
       "      <td>shutdownhang | mozilla::SpinEventLoopUntil&lt;T&gt; | mozilla::Preferences::SavePrefFileBlocking</td>\n",
       "      <td>2448</td>\n",
       "      <td>0.010199</td>\n",
       "      <td>crash_report</td>\n",
       "    </tr>\n",
       "    <tr>\n",
       "      <th>8</th>\n",
       "      <td>87.0</td>\n",
       "      <td>static mozilla::dom::quota::QuotaManager::Shutdown::&lt;T&gt;::operator()::&lt;T&gt;::__invoke</td>\n",
       "      <td>2363</td>\n",
       "      <td>0.009844</td>\n",
       "      <td>crash_report</td>\n",
       "    </tr>\n",
       "    <tr>\n",
       "      <th>9</th>\n",
       "      <td>88.0</td>\n",
       "      <td>js::GCMarker::processMarkStackTop</td>\n",
       "      <td>2064</td>\n",
       "      <td>0.008599</td>\n",
       "      <td>crash_report</td>\n",
       "    </tr>\n",
       "  </tbody>\n",
       "</table>\n",
       "</div>"
      ],
      "text/plain": [
       "  version  \\\n",
       "0    87.0   \n",
       "1    88.0   \n",
       "2    87.0   \n",
       "3    88.0   \n",
       "4    87.0   \n",
       "5    88.0   \n",
       "6    87.0   \n",
       "7    88.0   \n",
       "8    87.0   \n",
       "9    88.0   \n",
       "\n",
       "                                                                                                            signature  \\\n",
       "0                                                                                                         OOM | small   \n",
       "1                                                                                                         OOM | small   \n",
       "2  OOM | large | js::AutoEnterOOMUnsafeRegion::crash | js::AutoEnterOOMUnsafeRegion::crash | js::gc::AllocateCellInGC   \n",
       "3  OOM | large | js::AutoEnterOOMUnsafeRegion::crash | js::AutoEnterOOMUnsafeRegion::crash | js::gc::AllocateCellInGC   \n",
       "4                                                                                   js::GCMarker::processMarkStackTop   \n",
       "5                                  static mozilla::dom::quota::QuotaManager::Shutdown::<T>::operator()::<T>::__invoke   \n",
       "6                          shutdownhang | mozilla::SpinEventLoopUntil<T> | mozilla::Preferences::SavePrefFileBlocking   \n",
       "7                          shutdownhang | mozilla::SpinEventLoopUntil<T> | mozilla::Preferences::SavePrefFileBlocking   \n",
       "8                                  static mozilla::dom::quota::QuotaManager::Shutdown::<T>::operator()::<T>::__invoke   \n",
       "9                                                                                   js::GCMarker::processMarkStackTop   \n",
       "\n",
       "   crashes  crashes_fraction        source  \n",
       "0    31973          0.133203  crash_report  \n",
       "1    29312          0.122117  crash_report  \n",
       "2     6826          0.028438  crash_report  \n",
       "3     4377          0.018235  crash_report  \n",
       "4     3416          0.014231  crash_report  \n",
       "5     2810          0.011707  crash_report  \n",
       "6     2503          0.010428  crash_report  \n",
       "7     2448          0.010199  crash_report  \n",
       "8     2363          0.009844  crash_report  \n",
       "9     2064          0.008599  crash_report  "
      ]
     },
     "execution_count": 303,
     "metadata": {},
     "output_type": "execute_result"
    }
   ],
   "source": [
    "tmp_grp = socorro_df[['signature', 'version', 'crash_id']].groupby(['version', 'signature'])\n",
    "socorro_summary_df = pd.concat([\n",
    "  tmp_grp['crash_id'].count(),\n",
    "  tmp_grp['crash_id'].count()  / socorro_df.shape[0],\n",
    "  tmp_grp['crash_id'].apply(lambda x: 'crash_report')\n",
    "], join='inner', axis=1)\n",
    "socorro_summary_df.columns = ['crashes', 'crashes_fraction', 'source']\n",
    "socorro_summary_df.sort_values(by='crashes_fraction', ascending=False, inplace=True)\n",
    "socorro_summary_df.reset_index(inplace=True)\n",
    "socorro_summary_df.head(10)"
   ]
  },
  {
   "cell_type": "code",
   "execution_count": 340,
   "metadata": {},
   "outputs": [
    {
     "data": {
      "image/png": "[encoded data removed]",
      "text/plain": [
       "<Figure size 792x504 with 1 Axes>"
      ]
     },
     "metadata": {
      "needs_background": "light"
     },
     "output_type": "display_data"
    }
   ],
   "source": [
    "top_n = 10\n",
    "columns = ['version', 'signature', 'crashes_fraction', 'source']\n",
    "joined_crash_df = crash_telemetry_summary_df[columns] \\\n",
    "  .append(socorro_summary_df[columns])\n",
    "joined_crash_df.sort_values(by='crashes_fraction', ascending=False, inplace=True)\n",
    "joined_crash_df = joined_crash_df.groupby(['version', 'source']).head(top_n).reset_index()\n",
    "ax = sns.barplot(data=joined_crash_df.query('version == \"87.0\"'), x='signature', y='crashes_fraction', hue='source')\n",
    "plt.xticks(rotation=90)\n",
    "plt.show()"
   ]
  },
  {
   "cell_type": "code",
   "execution_count": 341,
   "metadata": {},
   "outputs": [
    {
     "data": {
      "image/png": "[encoded data removed]",
      "text/plain": [
       "<Figure size 792x504 with 1 Axes>"
      ]
     },
     "metadata": {
      "needs_background": "light"
     },
     "output_type": "display_data"
    }
   ],
   "source": [
    "ax = sns.barplot(data=joined_crash_df.query('version == \"88.0\"'), x='signature', y='crashes_fraction', hue='source')\n",
    "plt.xticks(rotation=90)\n",
    "plt.show()"
   ]
  },
  {
   "cell_type": "code",
   "execution_count": 336,
   "metadata": {},
   "outputs": [],
   "source": [
    "crash_telemetry_df[['signature','client_id']].groupby(['signature']).nunique().reset_index().sort_values(by='signature').to_csv('/c/Users/Eric Smyth/Desktop/signatures.csv')"
   ]
  },
  {
   "cell_type": "code",
   "execution_count": 338,
   "metadata": {},
   "outputs": [
    {
     "data": {
      "text/plain": [
       "(212, 11)"
      ]
     },
     "execution_count": 338,
     "metadata": {},
     "output_type": "execute_result"
    }
   ],
   "source": [
    "crash_telemetry_df.query('signature == \"__get_signature_failed__\"').shape"
   ]
  },
  {
   "cell_type": "code",
   "execution_count": null,
   "metadata": {
    "executionInfo": {
     "elapsed": 14,
     "status": "aborted",
     "timestamp": 1626741912755,
     "user": {
      "displayName": "Eric Smyth",
      "photoUrl": "https://lh3.googleusercontent.com/a-/AOh14GhDTBoORDxrOm4QentoYfCMmr01DTtXLdSaiBPO=s64",
      "userId": "00945253212947176417"
     },
     "user_tz": 420
    },
    "id": "6E4fqgHkIQxm"
   },
   "outputs": [],
   "source": [
    "print(f'Notebook execution took: {time() - start_time:.2f} seconds')"
   ]
  },
  {
   "cell_type": "code",
   "execution_count": 146,
   "metadata": {},
   "outputs": [],
   "source": [
    "crash_telemetry_df.to_pickle('~/development/colab/2021_07_28_stability_working.pkl')"
   ]
  },
  {
   "cell_type": "markdown",
   "metadata": {},
   "source": [
    "# Todo\n",
    "* Plot crashes over time\n",
    "* Determine if significant change in crashes between Fx87 and 88\n",
    "* Review a set of top crashes for impact on retention\n"
   ]
  },
  {
   "cell_type": "markdown",
   "metadata": {},
   "source": [
    "# Notes\n",
    "Not practical to run this at scale. 1-week 1% sample of the Release channel crash pings for 2 versions is ~100k records and the time to run fx-crash-sig to generate signatures is near 4.7 hours (`175ms/record).\n",
    "\n",
    "What does it mean if 'payload.stack_traces.crash_info.crashing_thread' is None? \n",
    "\n",
    "Are the crashes captured by the newly introduced WER reporting reported via telemetry or just socorro? if not telemetry, are there other known cases where a crash may be reported in socorro but not telemetry?\n",
    "\n",
    "Aggregation right now is per row. There isn't de-duplication of crash_id in either the socorro or telemetry dataframes. There seems to be a significant number of rows in socorro per unique crash_id. I need to better understand what a crash_id and a row from each data source represents.\n",
    "\n",
    "The signature generation step failed on 212 out of 96863 records. Willkg also mentioned there are cases where the signature generated for a ping is more generic than what the equivalent crash would have in socorro (`for example \"EMPTY: no crashing thread identified\" shows up in crash report data as \"EMPTY: no crashing thread identified: <reason>\" and there are a bunch of reasons.`)\n",
    "\n",
    "What is the structure of the signature, specifically the meaning of the `|` delimiter (example signature `<unknown in atidxx64.dll> | <unknown in atiumd6a.dll> | <unknown in atidxx64.dll> | <unknown in atiuxp64.dll> | CDecodeContext::EndFrame`)? Would it be meaningful to also look at crashes at some substring (e.g., only the chunk before the first delimiter)?"
   ]
  }
 ],
 "metadata": {
  "colab": {
   "name": "hist_change.ipynb",
   "provenance": [],
   "toc_visible": true
  },
  "interpreter": {
   "hash": "850f84ca1dd2d7e6e9ca4616078dd8eb17fc016c94f6c4aa6fbb32c7a5a0a48b"
  },
  "kernelspec": {
   "display_name": "Python 3 (ipykernel)",
   "language": "python",
   "name": "python3"
  },
  "language_info": {
   "codemirror_mode": {
    "name": "ipython",
    "version": 3
   },
   "file_extension": ".py",
   "mimetype": "text/x-python",
   "name": "python",
   "nbconvert_exporter": "python",
   "pygments_lexer": "ipython3",
   "version": "3.9.6"
  }
 },
 "nbformat": 4,
 "nbformat_minor": 4
}
