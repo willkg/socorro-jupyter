{
 "cells": [
  {
   "cell_type": "markdown",
   "id": "e29e5373-294d-43fd-b1f9-28e5c1d1a187",
   "metadata": {},
   "source": [
    "# Firefox crash reports missing minidumps\n",
    "\n",
    "This covers searches for the various scenarios where Firefox crash reports are\n",
    "missing minidumps for September 2021."
   ]
  },
  {
   "cell_type": "code",
   "execution_count": 1,
   "id": "e211c9f5-2b4f-455a-b135-620c646ef7c6",
   "metadata": {},
   "outputs": [],
   "source": [
    "import json\n",
    "import os\n",
    "\n",
    "import matplotlib.pyplot as plt\n",
    "import pandas as pd\n",
    "import requests\n",
    "\n",
    "HOST = \"https://crash-stats.mozilla.org\"\n",
    "\n",
    "def fetch_supersearch(params):\n",
    "    headers = {\"User-Agent\": \"jupyter-notebook\"}\n",
    "    resp = requests.get(HOST + \"/api/SuperSearch/\", params=params, headers=headers)\n",
    "    return resp.json()\n",
    "\n",
    "params = {\n",
    "    \"date\": [\">=2021-09-01\", \"<2021-09-30\"],\n",
    "    \"product\": \"Firefox\",\n",
    "}"
   ]
  },
  {
   "cell_type": "markdown",
   "id": "24d05128-6fa8-408f-8fbf-8bcf33989d75",
   "metadata": {},
   "source": [
    "How many crash reports are there in this time range?"
   ]
  },
  {
   "cell_type": "code",
   "execution_count": 2,
   "id": "1bae892e-4ded-4667-b3f8-4cc78fe1eab1",
   "metadata": {},
   "outputs": [
    {
     "name": "stdout",
     "output_type": "stream",
     "text": [
      "1,807,269\n"
     ]
    }
   ],
   "source": [
    "total = fetch_supersearch(params)[\"total\"]\n",
    "print(f\"{total:,}\")"
   ]
  },
  {
   "cell_type": "markdown",
   "id": "d64af8da-07bf-487a-b7b8-d062b2c5b715",
   "metadata": {},
   "source": [
    "## malformed minidumps\n",
    "\n",
    "Crash reports that have a malformed minidump will have a message in `processor_notes` like `MDSW failed with ...`."
   ]
  },
  {
   "cell_type": "code",
   "execution_count": 3,
   "id": "c1ddf824-c80e-4e17-9a2c-c59c0e6f4c8d",
   "metadata": {},
   "outputs": [
    {
     "name": "stdout",
     "output_type": "stream",
     "text": [
      "79,494\n"
     ]
    }
   ],
   "source": [
    "malformed_params = dict(params, processor_notes=\"~MDSW\")\n",
    "\n",
    "malformed = fetch_supersearch(malformed_params)[\"total\"]\n",
    "print(f\"{malformed:,}\")"
   ]
  },
  {
   "cell_type": "markdown",
   "id": "05085a77-6022-4d8b-9569-6fee5d314bc8",
   "metadata": {},
   "source": [
    "Crash reports with \"malformed\" minidumps come in a few different flavors:\n",
    "\n",
    "* crash reports with a 0-byte minidump\n",
    "* crash reports with no minidump at all\n",
    "* crash reports with corrupted headers or other problems"
   ]
  },
  {
   "cell_type": "markdown",
   "id": "f38c6a20-a255-4b96-8195-db736f3d2fa9",
   "metadata": {},
   "source": [
    "### 0-byte minidumps\n",
    "\n",
    "Some crash reports have a minidump, but it's a 0-byte minidump. These have a `minidump_sha256_hash` of `e3b0c44298fc1c149afbf4c8996fb92427ae41e4649b934ca495991b7852b855`."
   ]
  },
  {
   "cell_type": "code",
   "execution_count": 4,
   "id": "4dadbcbe-79ff-4f7b-9784-f62cc5113144",
   "metadata": {},
   "outputs": [
    {
     "name": "stdout",
     "output_type": "stream",
     "text": [
      "71,781\n"
     ]
    }
   ],
   "source": [
    "NOBYTES_SHA256 = \"e3b0c44298fc1c149afbf4c8996fb92427ae41e4649b934ca495991b7852b855\"\n",
    "\n",
    "nobytes = fetch_supersearch(dict(malformed_params, minidump_sha256_hash=NOBYTES_SHA256))[\"total\"]\n",
    "print(f\"{nobytes:,}\")"
   ]
  },
  {
   "cell_type": "markdown",
   "id": "45af0dfd-248b-4798-85ef-d51b7b193b5e",
   "metadata": {},
   "source": [
    "### missing minidumps\n",
    "\n",
    "Now we need to figure out how many crash reports are missing a minidump altogether. If there's no minidump, then `minidump_sha256_hash` is an empty string. That's kind of irritating to search for, but it's doable. We have to search for values that don't match `[0-9a-f]+`."
   ]
  },
  {
   "cell_type": "code",
   "execution_count": 5,
   "id": "dd368dd5-95ec-472a-b483-52eabf7d50b4",
   "metadata": {},
   "outputs": [
    {
     "name": "stdout",
     "output_type": "stream",
     "text": [
      "0\n"
     ]
    }
   ],
   "source": [
    "missing = fetch_supersearch(dict(malformed_params, minidump_sha256_hash=\"!@[0-9a-f]+\"))[\"total\"]\n",
    "print(f\"{missing:,}\")"
   ]
  },
  {
   "cell_type": "markdown",
   "id": "2aed9c38-9ee5-4e21-a50a-2a4b197e4ecf",
   "metadata": {},
   "source": [
    "So that's curious. There should be more than 0 missing. If we send a test crash report with no minidump, how does it show up?\n",
    "\n",
    "Here's a minimal crash report (with the crash ingestion collector host omitted):\n",
    "\n",
    "```\n",
    "curl -v -H 'Host: host' \\\n",
    "     -F 'ProductName=Firefox' \\\n",
    "     -F 'Version=92.0.1' \\\n",
    "     -F 'BuildID=20210922161155' \\\n",
    "     \"$HOST\"\n",
    "```\n",
    "\n",
    "How does that show up in Crash Stats?"
   ]
  },
  {
   "cell_type": "code",
   "execution_count": 6,
   "id": "cea10fc1-fd0c-41ef-8866-cf121053802e",
   "metadata": {},
   "outputs": [
    {
     "data": {
      "text/plain": [
       "{'success': True,\n",
       " 'startedDateTime': '2021-09-30T20:19:28.875896+00:00',\n",
       " 'signature': 'EMPTY: no crashing thread identified',\n",
       " 'process_type': 'parent',\n",
       " 'uuid': '5031efbf-6e21-4c1c-b18b-5aa7d0210930',\n",
       " 'minidump_sha256_hash': '',\n",
       " 'additional_minidumps': [],\n",
       " 'product': 'Firefox',\n",
       " 'version': '92.0.1',\n",
       " 'productid': '',\n",
       " 'release_channel': '',\n",
       " 'ReleaseChannel': '',\n",
       " 'build': '20210922161155',\n",
       " 'application_build_id': '',\n",
       " 'major_version': 92,\n",
       " 'app_notes': '',\n",
       " 'hangid': None,\n",
       " 'hang_type': 0,\n",
       " 'addons_checked': None,\n",
       " 'addons': [],\n",
       " 'date_processed': '2021-09-30T20:19:26.764570+00:00',\n",
       " 'crash_time': 1633033166,\n",
       " 'client_crash_date': '2021-09-30T20:19:26+00:00',\n",
       " 'install_age': 0,\n",
       " 'uptime': 0,\n",
       " 'last_crash': None,\n",
       " 'crashedThread': None,\n",
       " 'truncated': False,\n",
       " 'address': None,\n",
       " 'reason': None,\n",
       " 'cpu_info': 'unknown',\n",
       " 'cpu_arch': 'unknown',\n",
       " 'os_name': 'Unknown',\n",
       " 'os_version': '',\n",
       " 'flash_version': '[blank]',\n",
       " 'os_pretty_version': 'Unknown',\n",
       " 'topmost_filenames': None,\n",
       " 'processor_notes': \"processor_ip-172-31-31-88_us-west-2_compute_internal_8; ProcessorPipeline; WARNING: raw_crash missing CrashTime; client_crash_date is unknown; MDSW did not identify the crashing thread; exploitability information missing; no 'topmost_file' name because ''json_dump'' is missing; SignatureGenerationRule: CSignatureTool: No signature could be created because we do not know which thread crashed\",\n",
       " 'completeddatetime': '2021-09-30T20:19:28.879720+00:00'}"
      ]
     },
     "execution_count": 6,
     "metadata": {},
     "output_type": "execute_result"
    }
   ],
   "source": [
    "resp = requests.get(\"https://crash-stats.mozilla.org/api/ProcessedCrash/?crash_id=5031efbf-6e21-4c1c-b18b-5aa7d0210930\")\n",
    "data = resp.json()\n",
    "data"
   ]
  },
  {
   "cell_type": "markdown",
   "id": "2d1c0b61-54a9-499d-8624-b1125514a583",
   "metadata": {},
   "source": [
    "If we expand the search to include today, do we pick up this crash report?"
   ]
  },
  {
   "cell_type": "code",
   "execution_count": 7,
   "id": "cdc618e8-cbde-4f3d-8dc0-0947eb5c82c9",
   "metadata": {},
   "outputs": [
    {
     "data": {
      "text/plain": [
       "{'hits': [{'uuid': '5031efbf-6e21-4c1c-b18b-5aa7d0210930',\n",
       "   'date': '2021-09-30T20:19:26.764570+00:00',\n",
       "   'signature': 'EMPTY: no crashing thread identified',\n",
       "   'product': 'Firefox',\n",
       "   'version': '92.0.1'}],\n",
       " 'total': 1,\n",
       " 'facets': {'signature': [{'term': 'EMPTY: no crashing thread identified',\n",
       "    'count': 1}]},\n",
       " 'errors': []}"
      ]
     },
     "execution_count": 7,
     "metadata": {},
     "output_type": "execute_result"
    }
   ],
   "source": [
    "fetch_supersearch({\n",
    "    \"date\": [\">=2021-09-01\", \"<2021-10-01\"],\n",
    "    \"product\": \"Firefox\",\n",
    "    \"minidump_sha256_hash\": \"!@[0-9a-f]+\",\n",
    "})"
   ]
  },
  {
   "cell_type": "markdown",
   "id": "9578518b-a804-4b2c-a563-eb32c063247f",
   "metadata": {},
   "source": [
    "That's the same crash id (uuid--we have different names for it in different places because reasons) as the one I sent earlier. So the search works and there just aren't any crash reports for Firefox that have no minidump."
   ]
  },
  {
   "cell_type": "markdown",
   "id": "c7af80c9-f5b1-4cd6-bafa-34825f0dee97",
   "metadata": {},
   "source": [
    "### corrupted minidumps\n",
    "\n",
    "The rest of the malformed minidumps are corrupted. So it's everything that has a `MDSW` minus the ones that have no minidump or have a 0-byte minidump."
   ]
  },
  {
   "cell_type": "code",
   "execution_count": 8,
   "id": "a7ade738-f27f-49f9-a9fd-17f203357ce3",
   "metadata": {},
   "outputs": [
    {
     "name": "stdout",
     "output_type": "stream",
     "text": [
      "7,713\n"
     ]
    }
   ],
   "source": [
    "corrupted = malformed - missing - nobytes\n",
    "print(f\"{corrupted:,}\")"
   ]
  },
  {
   "cell_type": "markdown",
   "id": "8f46c475-5c57-4416-b295-ec0faa9da9ae",
   "metadata": {},
   "source": [
    "# Summary\n",
    "\n",
    "That brings us to the following table with percentages."
   ]
  },
  {
   "cell_type": "code",
   "execution_count": 9,
   "id": "0dd532ad-30cc-45ba-bfe5-f03a288a8509",
   "metadata": {},
   "outputs": [
    {
     "data": {
      "text/html": [
       "<div>\n",
       "<style scoped>\n",
       "    .dataframe tbody tr th:only-of-type {\n",
       "        vertical-align: middle;\n",
       "    }\n",
       "\n",
       "    .dataframe tbody tr th {\n",
       "        vertical-align: top;\n",
       "    }\n",
       "\n",
       "    .dataframe thead th {\n",
       "        text-align: right;\n",
       "    }\n",
       "</style>\n",
       "<table border=\"1\" class=\"dataframe\">\n",
       "  <thead>\n",
       "    <tr style=\"text-align: right;\">\n",
       "      <th></th>\n",
       "      <th>malformed</th>\n",
       "      <th>total</th>\n",
       "      <th>percentage</th>\n",
       "    </tr>\n",
       "  </thead>\n",
       "  <tbody>\n",
       "    <tr>\n",
       "      <th>0</th>\n",
       "      <td>79,494</td>\n",
       "      <td>1,807,269</td>\n",
       "      <td>43.99%</td>\n",
       "    </tr>\n",
       "  </tbody>\n",
       "</table>\n",
       "</div>"
      ],
      "text/plain": [
       "  malformed      total percentage\n",
       "0    79,494  1,807,269     43.99%"
      ]
     },
     "execution_count": 9,
     "metadata": {},
     "output_type": "execute_result"
    }
   ],
   "source": [
    "results = [f\"{malformed:,}\", f\"{total:,}\", f\"{malformed / total * 1000:.2f}%\"]\n",
    "pd.DataFrame([results], columns=[\"malformed\", \"total\", \"percentage\"])\n",
    "\n"
   ]
  },
  {
   "cell_type": "markdown",
   "id": "49bb97bb-6569-41ab-8b03-27485a4c1189",
   "metadata": {},
   "source": [
    "Breaking down malformed crash reports into reasons, we get:"
   ]
  },
  {
   "cell_type": "code",
   "execution_count": 10,
   "id": "f4bdd376-c452-4c18-af60-e79c6d9fefe5",
   "metadata": {},
   "outputs": [
    {
     "data": {
      "image/png": "[encoded data removed]",
      "text/plain": [
       "<Figure size 432x288 with 1 Axes>"
      ]
     },
     "metadata": {
      "needs_background": "light"
     },
     "output_type": "display_data"
    }
   ],
   "source": [
    "nobytes_pct = nobytes / total * 100\n",
    "corrupted_pct = corrupted / total * 100\n",
    "missing_pct = missing / total * 100\n",
    "\n",
    "data = {\n",
    "    \"0-byte\": nobytes_pct,\n",
    "    \"corrupted\": corrupted_pct,\n",
    "    \"missing\": missing_pct,\n",
    "}\n",
    "keys = list(data.keys())\n",
    "values = list(data.values())\n",
    "\n",
    "fig, ax = plt.subplots()\n",
    "ax.barh(keys, values)\n",
    "labels = ax.get_xticklabels()\n",
    "plt.setp(labels, rotation=45, horizontalalignment='right')\n",
    "ax.set(xlim=[0, 100], xlabel=f\"pct of total crash reports: {total:,}\")\n",
    "ax.set_xticks([0, 25, 50, 75, 100])\n",
    "\n",
    "ax.text(102, 0, f\"{nobytes:,} ({nobytes_pct:.2f}%)\", fontsize=10, verticalalignment=\"center\")\n",
    "ax.text(102, 1, f\"{corrupted:,} ({corrupted_pct:.2f}%)\", fontsize=10, verticalalignment=\"center\")\n",
    "ax.text(102, 2, f\"{missing:,} ({missing_pct:.2f}%)\", fontsize=10, verticalalignment=\"center\")\n",
    "plt.show()"
   ]
  },
  {
   "cell_type": "code",
   "execution_count": null,
   "id": "1d741bda-22e4-4d51-aa6f-8e427e1c46ff",
   "metadata": {},
   "outputs": [],
   "source": []
  }
 ],
 "metadata": {
  "kernelspec": {
   "display_name": "Python 3 (ipykernel)",
   "language": "python",
   "name": "python3"
  },
  "language_info": {
   "codemirror_mode": {
    "name": "ipython",
    "version": 3
   },
   "file_extension": ".py",
   "mimetype": "text/x-python",
   "name": "python",
   "nbconvert_exporter": "python",
   "pygments_lexer": "ipython3",
   "version": "3.9.6"
  }
 },
 "nbformat": 4,
 "nbformat_minor": 5
}
